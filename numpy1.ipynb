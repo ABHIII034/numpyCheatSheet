{
 "cells": [
  {
   "cell_type": "markdown",
   "id": "37eeef39",
   "metadata": {},
   "source": [
    "# NumPy Essentials for Data Science \n"
   ]
  },
  {
   "cell_type": "code",
   "execution_count": 1,
   "id": "cad136d8",
   "metadata": {},
   "outputs": [],
   "source": [
    "import numpy as np\n"
   ]
  },
  {
   "cell_type": "code",
   "execution_count": 2,
   "id": "d59d90b2",
   "metadata": {},
   "outputs": [
    {
     "name": "stdout",
     "output_type": "stream",
     "text": [
      "[1 2 3]\n",
      "[[ 3  6  9 12]\n",
      " [15 18 21 24]]\n"
     ]
    }
   ],
   "source": [
    "\n",
    "\n",
    "array=np.array([1,2,3])\n",
    "print(array)\n",
    "\n",
    "array1=np.array([[1,2,3,4],[5,6,7,8]])\n",
    "print(array1*3)"
   ]
  },
  {
   "cell_type": "markdown",
   "id": "0c7a6fd0",
   "metadata": {},
   "source": []
  },
  {
   "cell_type": "code",
   "execution_count": null,
   "id": "53e34c4c",
   "metadata": {},
   "outputs": [],
   "source": []
  },
  {
   "cell_type": "markdown",
   "id": "4b996fc4",
   "metadata": {},
   "source": [
    "### creating array from list"
   ]
  },
  {
   "cell_type": "markdown",
   "id": "07a14867",
   "metadata": {},
   "source": [
    "### creating arrray from scratch (using zeros array )"
   ]
  },
  {
   "cell_type": "code",
   "execution_count": 3,
   "id": "9d7f66c8",
   "metadata": {},
   "outputs": [
    {
     "name": "stdout",
     "output_type": "stream",
     "text": [
      "array_zeros :\n",
      " [[0. 0. 0. 0. 0.]\n",
      " [0. 0. 0. 0. 0.]\n",
      " [0. 0. 0. 0. 0.]\n",
      " [0. 0. 0. 0. 0.]]\n"
     ]
    }
   ],
   "source": [
    "array_zeros=np.zeros((4,5))\n",
    "print(\"array_zeros :\\n\",array_zeros)"
   ]
  },
  {
   "cell_type": "markdown",
   "id": "14009839",
   "metadata": {},
   "source": [
    "### creating array using Ones "
   ]
  },
  {
   "cell_type": "code",
   "execution_count": 4,
   "id": "f6615eee",
   "metadata": {},
   "outputs": [
    {
     "name": "stdout",
     "output_type": "stream",
     "text": [
      "ones array : \n",
      " [[1. 1. 1. 1.]\n",
      " [1. 1. 1. 1.]\n",
      " [1. 1. 1. 1.]]\n"
     ]
    }
   ],
   "source": [
    "arrray_ones=np.ones((3,4))\n",
    "print(\"ones array : \\n\",arrray_ones)"
   ]
  },
  {
   "cell_type": "code",
   "execution_count": 5,
   "id": "8e904de2",
   "metadata": {},
   "outputs": [
    {
     "name": "stdout",
     "output_type": "stream",
     "text": [
      "[[1 2 3]\n",
      " [5 6 7]\n",
      " [8 8 1]]\n"
     ]
    }
   ],
   "source": [
    "arrray_const=np.array([[1,2,3],[5,6,7],[8,8,1]])\n",
    "print(arrray_const)"
   ]
  },
  {
   "cell_type": "markdown",
   "id": "71c70c00",
   "metadata": {},
   "source": [
    "### constant array making using full method\n"
   ]
  },
  {
   "cell_type": "code",
   "execution_count": 6,
   "id": "22586d09",
   "metadata": {},
   "outputs": [
    {
     "name": "stdout",
     "output_type": "stream",
     "text": [
      "const array example :\n",
      " [[7 7 7 7]\n",
      " [7 7 7 7]\n",
      " [7 7 7 7]]\n"
     ]
    }
   ],
   "source": [
    "array_full=np.full((3,4),7 ) # 7 is a prameter for constant value\n",
    "print(\"const array example :\\n\",array_full)"
   ]
  },
  {
   "cell_type": "markdown",
   "id": "07f6e126",
   "metadata": {},
   "source": [
    "### array making random values"
   ]
  },
  {
   "cell_type": "code",
   "execution_count": 7,
   "id": "058c0544",
   "metadata": {},
   "outputs": [
    {
     "name": "stdout",
     "output_type": "stream",
     "text": [
      "random array :\n",
      " [[0.82908417 0.82624771]\n",
      " [0.80038198 0.0028435 ]\n",
      " [0.68425012 0.1201266 ]]\n"
     ]
    }
   ],
   "source": [
    "arrray_random=np.random.random((3,2))  \n",
    "print(\"random array :\\n\",arrray_random)"
   ]
  },
  {
   "cell_type": "markdown",
   "id": "2847d8f1",
   "metadata": {},
   "source": [
    "### sequence  to print array (starting_number , ending_number , step)\n",
    "###### (0,10,2)  here 0 is starting number   , 10 is a ending number (but it will end at 9 beacuse python is a implicitly exclusive that's why ending number-1)  and 2 is a step between to numbers "
   ]
  },
  {
   "cell_type": "code",
   "execution_count": 8,
   "id": "3f49ac83",
   "metadata": {},
   "outputs": [
    {
     "name": "stdout",
     "output_type": "stream",
     "text": [
      "sequence array \n",
      "  [ 0  2  4  6  8 10 12 14]\n"
     ]
    }
   ],
   "source": [
    "import numpy as np\n",
    "array_sequence=np.arange(0,16,2)\n",
    "print(\"sequence array \\n \",array_sequence)"
   ]
  },
  {
   "cell_type": "markdown",
   "id": "305167ec",
   "metadata": {},
   "source": [
    "# Vector , Matrix , Tensor in numpy"
   ]
  },
  {
   "cell_type": "code",
   "execution_count": 9,
   "id": "ff3a3a69",
   "metadata": {},
   "outputs": [
    {
     "name": "stdout",
     "output_type": "stream",
     "text": [
      "tensor example \n",
      "  [[[1 2 3]\n",
      "  [4 5 6]]\n",
      "\n",
      " [[5 6 7]\n",
      "  [7 8 9]]]\n"
     ]
    }
   ],
   "source": [
    "# #example of vector\n",
    "# vector=np.array([1,2,3,4])\n",
    "# print(\"vector example \\n\",vector)\n",
    "\n",
    "\n",
    "# #example of matrix\n",
    "# matrix=np.array([[1,2,3,4],[5,6,7,8]])\n",
    "# print(\"matrix example \\n \", matrix)\n",
    "\n",
    "\n",
    "\n",
    "#exaple of tensor\n",
    "tensor=np.array([[[1,2,3],[4,5,6]],\n",
    "                 [[5,6,7],[7,8,9]]])\n",
    "print(\"tensor example \\n \",tensor)\n"
   ]
  },
  {
   "cell_type": "markdown",
   "id": "1f82ceea",
   "metadata": {},
   "source": [
    "# properties of Arrays"
   ]
  },
  {
   "cell_type": "code",
   "execution_count": 10,
   "id": "1c507dd8",
   "metadata": {},
   "outputs": [
    {
     "name": "stdout",
     "output_type": "stream",
     "text": [
      "shape (3, 4)\n",
      "dimension of array : 2\n",
      "size of an array : 12\n",
      "data type of an array : int64\n"
     ]
    }
   ],
   "source": [
    "import numpy as np\n",
    "array_prop=np.array([[1,3,5,6],\n",
    "                     [7,8,9,0],\n",
    "                     [1,8,4,7]])\n",
    "\n",
    "\n",
    "print(\"shape\",array_prop.shape) # to find the shape of an array \n",
    "print(\"dimension of array :\",array_prop.ndim)  # to find the dimension of an array \n",
    "print(\"size of an array :\",array_prop.size) # to find the size of an array \n",
    "print(\"data type of an array :\",array_prop.dtype) # to find the datatype of an array \n"
   ]
  },
  {
   "cell_type": "markdown",
   "id": "ceff56ac",
   "metadata": {},
   "source": [
    "### reshaping the array"
   ]
  },
  {
   "cell_type": "code",
   "execution_count": 11,
   "id": "a48f9511",
   "metadata": {},
   "outputs": [
    {
     "name": "stdout",
     "output_type": "stream",
     "text": [
      " arrray before reshape \n",
      " [ 0  1  2  3  4  5  6  7  8  9 10 11]\n",
      "array using reshape method \n",
      " [[ 0  1  2]\n",
      " [ 3  4  5]\n",
      " [ 6  7  8]\n",
      " [ 9 10 11]]\n"
     ]
    }
   ],
   "source": [
    "arr=np.arange(12)\n",
    "print(\" arrray before reshape \\n\",arr)\n",
    "\n",
    "reshape=arr.reshape((4,3))\n",
    "print(\"array using reshape method \\n\",reshape)"
   ]
  },
  {
   "cell_type": "markdown",
   "id": "3dd6def3",
   "metadata": {},
   "source": [
    "### falting the reshape array \n"
   ]
  },
  {
   "cell_type": "code",
   "execution_count": 12,
   "id": "f648c95b",
   "metadata": {},
   "outputs": [
    {
     "name": "stdout",
     "output_type": "stream",
     "text": [
      "array before floating \n",
      " [[ 0  1  2]\n",
      " [ 3  4  5]\n",
      " [ 6  7  8]\n",
      " [ 9 10 11]]\n",
      "array after flat \n",
      " [ 0  1  2  3  4  5  6  7  8  9 10 11]\n"
     ]
    }
   ],
   "source": [
    "array = np.array([[0, 1, 2], [3, 4, 5], [6, 7, 8], [9, 10, 11]])\n",
    "print(\"array before floating \\n\",array)\n",
    "\n",
    "array_flat=array.flatten()\n",
    "print(\"array after flat \\n\",array_flat)"
   ]
  },
  {
   "cell_type": "markdown",
   "id": "8ae1347b",
   "metadata": {},
   "source": [
    "### raveled array (returns view , instead of copy)"
   ]
  },
  {
   "cell_type": "code",
   "execution_count": 13,
   "id": "52b2bf9a",
   "metadata": {},
   "outputs": [
    {
     "name": "stdout",
     "output_type": "stream",
     "text": [
      "array before raveled \n",
      " [[10 22 33 44]\n",
      " [11 22 33 44]]\n",
      "array after ravel \n",
      " [10 22 33 44 11 22 33 44]\n"
     ]
    }
   ],
   "source": [
    "arr=np.array([[10,22,33,44],[11,22,33,44]])\n",
    "print(\"array before raveled \\n\",arr)\n",
    "\n",
    "ravel_array=arr.ravel()\n",
    "print( \"array after ravel \\n\",ravel_array)"
   ]
  },
  {
   "cell_type": "markdown",
   "id": "88df8a5c",
   "metadata": {},
   "source": [
    "### Tanspose the array\n"
   ]
  },
  {
   "cell_type": "code",
   "execution_count": 14,
   "id": "57c9b958",
   "metadata": {},
   "outputs": [
    {
     "name": "stdout",
     "output_type": "stream",
     "text": [
      "array before Transpose\n",
      " [[1 2 1 3 2 3]\n",
      " [4 4 4 5 6 1]]\n",
      "array after transpose \n",
      " [[1 4]\n",
      " [2 4]\n",
      " [1 4]\n",
      " [3 5]\n",
      " [2 6]\n",
      " [3 1]]\n"
     ]
    }
   ],
   "source": [
    "arr=np.array([[1,2,1,3,2,3],[4,4,4,5,6,1]])\n",
    "print(\"array before Transpose\\n\",arr)\n",
    "transpose_arr=arr.T\n",
    "print(\"array after transpose \\n\",transpose_arr)"
   ]
  },
  {
   "cell_type": "markdown",
   "id": "4dfe0585",
   "metadata": {},
   "source": [
    "# Learning numpy "
   ]
  },
  {
   "cell_type": "markdown",
   "id": "6d4bd3a0",
   "metadata": {},
   "source": [
    "### basic slicing in  1D array "
   ]
  },
  {
   "cell_type": "code",
   "execution_count": 15,
   "id": "a462e987",
   "metadata": {},
   "outputs": [
    {
     "name": "stdout",
     "output_type": "stream",
     "text": [
      "basic slicing of an  array : [2 3 4 5 6 7]\n",
      "basic negative slicing of an array : 5\n",
      "slicing the array with steps :  [4, 7, 10]\n"
     ]
    }
   ],
   "source": [
    "arr_slice=np.array([1,2,3,4,5,6,7,8,9,0])\n",
    "print(\"basic slicing of an  array :\",arr_slice[1:7])\n",
    "\n",
    "\n",
    "##negative basic slicing\n",
    "arr_negative_slice=([2,3,4,5,6,7,8])\n",
    "print(\"basic negative slicing of an array :\",arr_negative_slice[-4])\n",
    "\n",
    "\n",
    "## slicing with step (we need to give steps also )\n",
    "arr_step_slice=([1,2,3,4,5,6,7,8,9,10,11,12,13,14,15])\n",
    "print(\"slicing the array with steps : \",arr_step_slice[3:12:3]) # 3 is the value of step \n"
   ]
  },
  {
   "cell_type": "markdown",
   "id": "6a7d9efe",
   "metadata": {},
   "source": [
    "### basics of slicing in 2D array"
   ]
  },
  {
   "cell_type": "code",
   "execution_count": 16,
   "id": "c1207a95",
   "metadata": {},
   "outputs": [
    {
     "name": "stdout",
     "output_type": "stream",
     "text": [
      "basic slicing of an 2D array : 12\n",
      "basic slicing of an 2D array : 1\n"
     ]
    }
   ],
   "source": [
    "arr_2D_slice=np.array([[3,6,9],\n",
    "                       [1,3,5],\n",
    "                       [2,4,6],\n",
    "                       [4,8,12],\n",
    "                       [1,0,1]])\n",
    "\n",
    "\n",
    "print(\"basic slicing of an 2D array :\",arr_2D_slice[3,2])  # 3 is the row number 3 rd row 2nd index \n",
    "print(\"basic slicing of an 2D array :\",arr_2D_slice[4,0])  # 4 is the row number 4 rd row 1nd index \n"
   ]
  },
  {
   "cell_type": "markdown",
   "id": "90f0a92a",
   "metadata": {},
   "source": [
    "#### slicing of array for with targeting entire Row "
   ]
  },
  {
   "cell_type": "code",
   "execution_count": 17,
   "id": "0d2b224e",
   "metadata": {},
   "outputs": [
    {
     "name": "stdout",
     "output_type": "stream",
     "text": [
      "targeting entire row of an array : [4 5 2 4]\n",
      "targeting entire row of an array : [2 4 4 5]\n"
     ]
    }
   ],
   "source": [
    "arrRowWhole=np.array([[2,4,4,5],\n",
    "                    [4,9,7,2],\n",
    "                    [1,4,5,1],\n",
    "                    [4,5,2,4],\n",
    "                    [9,9,7,7],\n",
    "                    [9,1,4,5]])\n",
    "\n",
    "print(\"targeting entire row of an array :\",arrRowWhole[3])  # targeting entire  3rd row \n",
    "print(\"targeting entire row of an array :\",arrRowWhole[0])  # targeting entire  0th row \n"
   ]
  },
  {
   "cell_type": "markdown",
   "id": "2a1bf8a0",
   "metadata": {},
   "source": [
    "### slicing of an array with targeting entire columns"
   ]
  },
  {
   "cell_type": "code",
   "execution_count": 18,
   "id": "1a2da4e7",
   "metadata": {},
   "outputs": [
    {
     "name": "stdout",
     "output_type": "stream",
     "text": [
      "targeting entire Column of an array : [2 5 4 5]\n",
      "targeting entire Column of an array : [4 9 4 2]\n",
      "targeting entire Column of an array : 5\n"
     ]
    }
   ],
   "source": [
    "arrColumnWhole=np.array([[4,9,7,2],\n",
    "                         [9,1,4,5],\n",
    "                         [4,5,2,4],\n",
    "                         [2,4,4,5]])\n",
    "print(\"targeting entire Column of an array :\",arrColumnWhole[:,3])  # : means row and 3 for all rows 3rd index\n",
    "print(\"targeting entire Column of an array :\",arrColumnWhole[:,0])  # : means row and 3 for all rows 3rd index\n",
    "\n",
    "print(\"targeting entire Column of an array :\",arrColumnWhole[2,1])  # 2 for row and 1  is the column of the 2nd row"
   ]
  },
  {
   "cell_type": "markdown",
   "id": "083b4330",
   "metadata": {},
   "source": [
    "## Sorting  1D array"
   ]
  },
  {
   "cell_type": "code",
   "execution_count": 19,
   "id": "46426c11",
   "metadata": {},
   "outputs": [
    {
     "name": "stdout",
     "output_type": "stream",
     "text": [
      "sorting the array : [  0   1   2   2   3   4   6   8  11  12  22  22  32  33 111]\n"
     ]
    }
   ],
   "source": [
    "sortingArray=np.array([1,11,3,2,33,22,12,22,111,32,0,8,6,4,2])\n",
    "\n",
    "print(\"sorting the array :\",np.sort(sortingArray))   # np.sort is used to sort the array"
   ]
  },
  {
   "cell_type": "markdown",
   "id": "c10b0897",
   "metadata": {},
   "source": [
    "## Sorting 2d array"
   ]
  },
  {
   "cell_type": "code",
   "execution_count": 20,
   "id": "bb1ac4ae",
   "metadata": {},
   "outputs": [
    {
     "name": "stdout",
     "output_type": "stream",
     "text": [
      "sorting the 2D by columns  with axis  0: \n",
      " [[ 2  1  2  2]\n",
      " [ 4  4  4  4]\n",
      " [ 4  9  4  5]\n",
      " [ 9 15  7  5]]\n",
      "sorting the 2D by columns  with axis 1:\n",
      " [[ 2  4  7  9]\n",
      " [ 1  4  5  9]\n",
      " [ 2  4  4 15]\n",
      " [ 2  4  4  5]]\n"
     ]
    }
   ],
   "source": [
    "arrSorting2D=np.array([[4,9,7,2],\n",
    "                         [9,1,4,5],\n",
    "                         [4,15,2,4],\n",
    "                         [2,4,4,5]])\n",
    "\n",
    "print(\"sorting the 2D by columns  with axis  0: \\n\",np.sort(arrSorting2D,axis=0)) # axis 0 is widly used\n",
    "\n",
    "print(\"sorting the 2D by columns  with axis 1:\\n\",np.sort(arrSorting2D,axis=1))"
   ]
  },
  {
   "cell_type": "markdown",
   "id": "eae7e1d0",
   "metadata": {},
   "source": [
    "## Filtering  the array\n"
   ]
  },
  {
   "cell_type": "code",
   "execution_count": 21,
   "id": "cad377d3",
   "metadata": {},
   "outputs": [
    {
     "name": "stdout",
     "output_type": "stream",
     "text": [
      "even numbers of an array : [ 2  4  6  8 10 12 14]\n"
     ]
    }
   ],
   "source": [
    "import numpy as np\n",
    "array_filter=np.array([1,2,3,4,5,6,7,8,9,10,11,12,13,14 ])\n",
    "evenNumber=array_filter[array_filter %2==0]\n",
    "print(\"even numbers of an array :\",evenNumber)"
   ]
  },
  {
   "cell_type": "markdown",
   "id": "ed328bf7",
   "metadata": {},
   "source": [
    "## Filtering the array with mask "
   ]
  },
  {
   "cell_type": "code",
   "execution_count": 22,
   "id": "10489f05",
   "metadata": {},
   "outputs": [
    {
     "name": "stdout",
     "output_type": "stream",
     "text": [
      "numbers that greater than 60 : [ 70  80  90 100 110 112 130 140 150]\n",
      "numbers that are smaller than and equal to 100 : [ 10  20  30  40  50  60  70  80  90 100]\n"
     ]
    }
   ],
   "source": [
    "array=np.array([10,20,30,40,50,60,70,80,90,100,110,112,130,140,150])\n",
    "mask_array=array >60\n",
    "print(\"numbers that greater than 60 :\",array[mask_array])\n",
    "maskArray2=array<=100\n",
    "print(\"numbers that are smaller than and equal to 100 :\",array[maskArray2])"
   ]
  },
  {
   "cell_type": "markdown",
   "id": "11748744",
   "metadata": {},
   "source": [
    "## Fancy indexing vs np.where()"
   ]
  },
  {
   "cell_type": "code",
   "execution_count": 23,
   "id": "41442cf3",
   "metadata": {},
   "outputs": [
    {
     "name": "stdout",
     "output_type": "stream",
     "text": [
      "indexs of the array [ 1 54 77 56 42 78  8]\n",
      "result using where in the array : [54 77 56 78]\n"
     ]
    }
   ],
   "source": [
    "# finding the index of the array \n",
    "array=np.array([1,23,43,54,67,55,77,43,53,56,55,42,4,78,998,8,7,66,90])\n",
    "index=[0,3,6,9,11,13,15]\n",
    "print(\"indexs of the array\",array[index])\n",
    "\n",
    "\n",
    "# using where in the array\n",
    "arr=np.array([0,3,6,9,11,13,15,1 ,54 ,77, 56, 42, 78,  8])\n",
    "whereArr=np.where(arr>50)\n",
    "print(\"result using where in the array :\",arr[whereArr])"
   ]
  },
  {
   "cell_type": "markdown",
   "id": "67d0bec1",
   "metadata": {},
   "source": [
    "##  Adding and Removing Data"
   ]
  },
  {
   "cell_type": "code",
   "execution_count": 24,
   "id": "3119174e",
   "metadata": {},
   "outputs": [
    {
     "name": "stdout",
     "output_type": "stream",
     "text": [
      "[ 10 290 300  40  50 690 700 980 990 100 200 300 400 500 600 700 800 900]\n"
     ]
    }
   ],
   "source": [
    "## merging two array using  concatenate\n",
    "import numpy as np\n",
    "arr1=np.array([10,290,300,40,50,690,700,980,990])\n",
    "arr2=np.array([100,200,300,400,500,600,700,800,900])\n",
    "\n",
    "arrMerge=np.concatenate((arr1,arr2))\n",
    "print(arrMerge)\n"
   ]
  },
  {
   "cell_type": "code",
   "execution_count": 25,
   "id": "70c7e3bd",
   "metadata": {},
   "outputs": [
    {
     "name": "stdout",
     "output_type": "stream",
     "text": [
      "mean : 24.285714285714285\n",
      "median : 11.0\n",
      "standerd deviation  : 21.015057769638048\n"
     ]
    }
   ],
   "source": [
    "import numpy as np\n",
    "array=np.array([10,11,2,3,44,55,45])\n",
    "arrMean=np.mean(array)\n",
    "print(\"mean :\",arrMean)\n",
    "arrMean=np.median(array)\n",
    "print(\"median :\",arrMean)\n",
    "arrMean=np.std(array)\n",
    "print(\"standerd deviation  :\",arrMean)\n",
    "\n",
    "\n",
    "\n",
    "\n"
   ]
  },
  {
   "cell_type": "code",
   "execution_count": null,
   "id": "aff18126",
   "metadata": {},
   "outputs": [],
   "source": []
  }
 ],
 "metadata": {
  "kernelspec": {
   "display_name": "Python 3",
   "language": "python",
   "name": "python3"
  },
  "language_info": {
   "codemirror_mode": {
    "name": "ipython",
    "version": 3
   },
   "file_extension": ".py",
   "mimetype": "text/x-python",
   "name": "python",
   "nbconvert_exporter": "python",
   "pygments_lexer": "ipython3",
   "version": "3.13.6"
  }
 },
 "nbformat": 4,
 "nbformat_minor": 5
}
